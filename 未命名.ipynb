{
 "cells": [
  {
   "cell_type": "code",
   "execution_count": 38,
   "metadata": {},
   "outputs": [],
   "source": [
    "import os, sys\n",
    "PWD = os.getenv('PWD')\n",
    "os.chdir(PWD)\n",
    "sys.path.insert(0, os.getenv('PWD'))\n",
    "os.environ.setdefault(\"DJANGO_SETTINGS_MODULE\", \"local_settings.py\")\n",
    "import django\n",
    "django.setup()"
   ]
  },
  {
   "cell_type": "code",
   "execution_count": 39,
   "metadata": {},
   "outputs": [],
   "source": [
    "from django.core.paginator import Paginator\n",
    "from  problems.models  import  Problem"
   ]
  },
  {
   "cell_type": "code",
   "execution_count": 40,
   "metadata": {},
   "outputs": [],
   "source": [
    "\n",
    "page= 1"
   ]
  },
  {
   "cell_type": "code",
   "execution_count": 49,
   "metadata": {},
   "outputs": [
    {
     "name": "stdout",
     "output_type": "stream",
     "text": [
      "<QuerySet [<Problem: 1000>, <Problem: 1001>, <Problem: 1002>, <Problem: 1003>, <Problem: 1004>, <Problem: 1005>, <Problem: 1006>, <Problem: 1007>, <Problem: 1008>, <Problem: 1009>, <Problem: 1010>, <Problem: 1011>, <Problem: 1012>, <Problem: 1013>, <Problem: 1014>, <Problem: 1015>, <Problem: 1016>, <Problem: 1017>, <Problem: 1018>, <Problem: 1019>, '...(remaining elements truncated)...']>\n"
     ]
    },
    {
     "name": "stderr",
     "output_type": "stream",
     "text": [
      "/home/ruth/PycharmProjects/ojenv/lib/python3.5/site-packages/ipykernel_launcher.py:5: UnorderedObjectListWarning: Pagination may yield inconsistent results with an unordered object_list: <class 'problems.models.Problem'> QuerySet.\n",
      "  \"\"\"\n"
     ]
    }
   ],
   "source": [
    "\n",
    "problems = Problem.objects.filter(is_visual=True)\n",
    "\n",
    "limit = 20\n",
    "paginator = Paginator(problems, limit)\n",
    "problem_list = paginator.page(page)\n",
    "\n",
    "### 标题\n",
    "p = Problem.objects.all()\n",
    "print(p)\n",
    "\n",
    "# QWE"
   ]
  },
  {
   "cell_type": "code",
   "execution_count": 50,
   "metadata": {},
   "outputs": [
    {
     "name": "stderr",
     "output_type": "stream",
     "text": [
      "/home/ruth/PycharmProjects/ojenv/lib/python3.5/site-packages/ipykernel_launcher.py:4: UnorderedObjectListWarning: Pagination may yield inconsistent results with an unordered object_list: <class 'problems.models.Problem'> QuerySet.\n",
      "  after removing the cwd from sys.path.\n"
     ]
    }
   ],
   "source": [
    "\n",
    "# problems = Problem.objects.all()\n",
    "limit = 20\n",
    "paginator = Paginator(problems, limit)\n",
    "problem_list = paginator.page(page)"
   ]
  },
  {
   "cell_type": "code",
   "execution_count": 51,
   "metadata": {},
   "outputs": [
    {
     "name": "stdout",
     "output_type": "stream",
     "text": [
      "<Page 1 of 5>\n"
     ]
    }
   ],
   "source": [
    "print(problem_list)"
   ]
  },
  {
   "cell_type": "markdown",
   "metadata": {},
   "source": [
    "### Http 404"
   ]
  },
  {
   "cell_type": "code",
   "execution_count": 58,
   "metadata": {},
   "outputs": [
    {
     "name": "stdout",
     "output_type": "stream",
     "text": [
      "<class 'django.http.response.Http404'>\n"
     ]
    }
   ],
   "source": [
    "from django.http import Http404\n",
    "from django.shortcuts import render\n",
    "print(Http404)"
   ]
  },
  {
   "cell_type": "code",
   "execution_count": 60,
   "metadata": {},
   "outputs": [
    {
     "ename": "TypeError",
     "evalue": "render() missing 1 required positional argument: 'template_name'",
     "output_type": "error",
     "traceback": [
      "\u001b[0;31m--------------------------------------------------------------------------\u001b[0m",
      "\u001b[0;31mTypeError\u001b[0m                                Traceback (most recent call last)",
      "\u001b[0;32m<ipython-input-60-e931a40828bd>\u001b[0m in \u001b[0;36m<module>\u001b[0;34m\u001b[0m\n\u001b[0;32m----> 1\u001b[0;31m \u001b[0mprint\u001b[0m\u001b[0;34m(\u001b[0m\u001b[0mrender\u001b[0m\u001b[0;34m(\u001b[0m\u001b[0mHttp404\u001b[0m\u001b[0;34m)\u001b[0m\u001b[0;34m,\u001b[0m\u001b[0;34m''\u001b[0m\u001b[0;34m)\u001b[0m\u001b[0;34m\u001b[0m\u001b[0m\n\u001b[0m",
      "\u001b[0;31mTypeError\u001b[0m: render() missing 1 required positional argument: 'template_name'"
     ]
    }
   ],
   "source": [
    "print(render(Http404),'')"
   ]
  },
  {
   "cell_type": "code",
   "execution_count": 64,
   "metadata": {},
   "outputs": [
    {
     "data": {
      "text/plain": [
       "datetime.datetime(2018, 12, 3, 9, 56, 37, 390298)"
      ]
     },
     "execution_count": 64,
     "metadata": {},
     "output_type": "execute_result"
    }
   ],
   "source": [
    "from datetime import datetime,timedelta\n",
    "datetime.now()+timedelta(days=1)"
   ]
  },
  {
   "cell_type": "code",
   "execution_count": null,
   "metadata": {},
   "outputs": [],
   "source": []
  }
 ],
 "metadata": {
  "kernelspec": {
   "display_name": "Python 3",
   "language": "python",
   "name": "python3"
  },
  "language_info": {
   "codemirror_mode": {
    "name": "ipython",
    "version": 3
   },
   "file_extension": ".py",
   "mimetype": "text/x-python",
   "name": "python",
   "nbconvert_exporter": "python",
   "pygments_lexer": "ipython3",
   "version": "3.5.2"
  }
 },
 "nbformat": 4,
 "nbformat_minor": 2
}
